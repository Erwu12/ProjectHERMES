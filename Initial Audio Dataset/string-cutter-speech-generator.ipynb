{
 "cells": [
  {
   "cell_type": "code",
   "execution_count": null,
   "id": "648057ce",
   "metadata": {},
   "outputs": [],
   "source": [
    "# Getting words, not kinda accurate tho...\n",
    "\n",
    "import PyPDF2\n",
    "import re\n",
    "\n",
    "with open('Sample.pdf', 'rb') as f:\n",
    "    pdf = PyPDF2.PdfFileReader(f)\n",
    "    words = []\n",
    "\n",
    "    for p in pdf.pages:\n",
    "        text = p.extractText()\n",
    "        matches = re.findall(r'\\b[a-zA-Z]+\\b', text)\n",
    "        words += matches\n",
    "\n",
    "with open('Sample.txt', 'w') as f:\n",
    "    f.write('\\n'.join(words))"
   ]
  },
  {
   "cell_type": "code",
   "execution_count": null,
   "id": "d2224fdb",
   "metadata": {},
   "outputs": [],
   "source": [
    "#Save as OGG Vorbis, replace file extension to get other audio files.\n",
    "\n",
    "import re\n",
    "import pyttsx3\n",
    "\n",
    "engine = pyttsx3.init()\n",
    "text = \"Sample text.\"\n",
    "matches = re.findall(r'\\b[a-zA-Z]+\\b', text)\n",
    "\n",
    "for word in matches:\n",
    "    engine.save_to_file(word, f'/path/to/{word}.ogg', 'ogg')\n",
    "    engine.runAndWait()"
   ]
  },
  {
   "cell_type": "code",
   "execution_count": null,
   "id": "1cb1c7f3",
   "metadata": {},
   "outputs": [],
   "source": [
    "# String cutter\n",
    "\n",
    "with open('Sample.txt', 'r') as infile:\n",
    "    lines = infile.readlines()\n",
    "\n",
    "first = [l.split()[0] for l in lines]\n",
    "\n",
    "with open('Sample.txt', 'w') as outfile:\n",
    "    outfile.write('\\n'.join(first))"
   ]
  },
  {
   "cell_type": "code",
   "execution_count": null,
   "id": "2465a4f2",
   "metadata": {},
   "outputs": [],
   "source": [
    "# To be used along with string cutter above. Makes a folde with the voice ID in the computer, or from the net.\n",
    "\n",
    "import os\n",
    "import pyttsx3\n",
    "\n",
    "engine = pyttsx3.init()\n",
    "folder = 'TTSFolder'\n",
    "\n",
    "if not os.path.exists(folder):\n",
    "    os.makedirs(folder)\n",
    "    \n",
    "voices = engine.getProperty('voices')\n",
    "engine.setProperty('voice', voices[1].id)\n",
    "\n",
    "with open('Outputs.txt', 'r') as infile:\n",
    "    lines = infile.readlines()\n",
    "\n",
    "for l in lines:\n",
    "    word = l.strip()\n",
    "    path = os.path.join(folder, f'{word}.mp3')\n",
    "    engine.save_to_file(word, path, 'mp3')\n",
    "    engine.runAndWait()"
   ]
  }
 ],
 "metadata": {
  "kernelspec": {
   "display_name": "Python 3",
   "language": "python",
   "name": "python3"
  },
  "language_info": {
   "codemirror_mode": {
    "name": "ipython",
    "version": 3
   },
   "file_extension": ".py",
   "mimetype": "text/x-python",
   "name": "python",
   "nbconvert_exporter": "python",
   "pygments_lexer": "ipython3",
   "version": "3.8.8"
  }
 },
 "nbformat": 4,
 "nbformat_minor": 5
}
